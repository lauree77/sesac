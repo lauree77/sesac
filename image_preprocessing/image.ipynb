{
 "cells": [
  {
   "cell_type": "code",
   "execution_count": null,
   "id": "5c6cb480",
   "metadata": {},
   "outputs": [],
   "source": [
    "from PIL import Image\n",
    "import numpy as np\n",
    "import matplotlib.pyplot as plt\n",
    "\n",
    "color_img = np.asarray(Image.open(\"data/test.png\"))\n",
    "gray_img = np.mean(color_img, axis=2).astype(np.uint8)\n",
    "fig, ax = plt.subplots(ncols=2)\n",
    "\n",
    "ax[0].imshow(color_img)\n",
    "ax[1].imshow(gray_img, cmap='gray')"
   ]
  },
  {
   "cell_type": "code",
   "execution_count": null,
   "id": "1e810ad9",
   "metadata": {},
   "outputs": [],
   "source": [
    "import cv2\n",
    "import matplotlib.pyplot as plt\n",
    "img = cv2.imread(\"data/test.png\")\n",
    "img2 = cv2.resize(img, None, fx=2, fy=2)\n",
    "fig, ax = plt.subplots(ncols=2)\n",
    "ax[0].imshow(img)\n",
    "ax[1].imshow(cv2.cvtColor(img2, cv2.COLOR_BGR2RGB))"
   ]
  },
  {
   "cell_type": "code",
   "execution_count": null,
   "id": "783f031f",
   "metadata": {},
   "outputs": [],
   "source": [
    "\n",
    "import cv2\n",
    "import matplotlib.pyplot as plt\n",
    "def show_histogram(hsv):\n",
    "    h, s, v = cv2.split(hsv)\n",
    "    hist = cv2.calcHist([v], [0], None, [255], [0, 255])\n",
    "    ax = plt.subplot(2, 1, 2)\n",
    "    ax.plot(hist)\n",
    "    ax = plt.subplot(2, 1, 1)\n",
    "    ax.imshow(cv2.cvtColor(hsv, cv2.COLOR_HSV2RGB))\n",
    "    plt.show()\n",
    "\n",
    "img = cv2.imread(\"data/n.jpg\")\n",
    "hsv = cv2.cvtColor(img, cv2.COLOR_BGR2HSV)\n",
    "show_histogram(hsv)"
   ]
  },
  {
   "cell_type": "code",
   "execution_count": null,
   "id": "a0137118",
   "metadata": {},
   "outputs": [],
   "source": [
    "\n",
    "h, s, v = cv2.split(hsv)\n",
    "v_norm = cv2.normalize(v, None, alpha=0, beta=255, norm_type=cv2.NORM_MINMAX)\n",
    "img_norm = cv2.merge((h, s, v_norm))\n",
    "show_histogram(img_norm)"
   ]
  }
 ],
 "metadata": {
  "kernelspec": {
   "display_name": "py313",
   "language": "python",
   "name": "python3"
  },
  "language_info": {
   "codemirror_mode": {
    "name": "ipython",
    "version": 3
   },
   "file_extension": ".py",
   "mimetype": "text/x-python",
   "name": "python",
   "nbconvert_exporter": "python",
   "pygments_lexer": "ipython3",
   "version": "3.13.2"
  }
 },
 "nbformat": 4,
 "nbformat_minor": 5
}
