{
 "cells": [
  {
   "cell_type": "code",
   "execution_count": null,
   "id": "cf8b89ad",
   "metadata": {},
   "outputs": [],
   "source": [
    "import cv2\n",
    "import pandas as pd\n",
    "import os\n",
    "import matplotlib.pyplot as plt"
   ]
  },
  {
   "cell_type": "code",
   "execution_count": null,
   "id": "a6dabb43",
   "metadata": {},
   "outputs": [],
   "source": [
    "file_name = './data_face/faces.csv'\n",
    "df = pd.read_csv(file_name, encoding='UTF-8')\n"
   ]
  },
  {
   "cell_type": "code",
   "execution_count": null,
   "id": "6655f4a5",
   "metadata": {},
   "outputs": [],
   "source": [
    "df.head()"
   ]
  },
  {
   "cell_type": "code",
   "execution_count": null,
   "id": "8c075c77",
   "metadata": {},
   "outputs": [],
   "source": [
    "# 결과 저장 디렉터리\n",
    "output_dir = \"cropped_images\"\n",
    "os.makedirs(output_dir, exist_ok=True)"
   ]
  },
  {
   "cell_type": "code",
   "execution_count": null,
   "id": "83ec65ac",
   "metadata": {},
   "outputs": [],
   "source": [
    "output_w = 100\n",
    "output_h = 100\n",
    "# 이미지 crop 함수\n",
    "def crop_image(row):\n",
    "    try:\n",
    "        # 이미지 읽기 (컬러)\n",
    "        img = cv2.imread('./data_face/images/'+row['image_name'])\n",
    "        if img is None:\n",
    "            print(f\"이미지를 읽을 수 없습니다: {row['image_name']}\")\n",
    "            return None\n",
    "        \n",
    "        x0, y0, x1, y1 = int(row['x0']), int(row['y0']), int(row['x1']), int(row['y1'])\n",
    "        \n",
    "        # Crop 영역 계산 및 이미지 자르기\n",
    "        cropped = img[y0:y1, x0:x1]\n",
    "        face_gray = cv2.cvtColor(cropped, cv2.COLOR_BGR2GRAY)\n",
    "        resized = cv2.resize(face_gray, (output_w, output_h), interpolation=cv2.INTER_AREA)\n",
    "\n",
    "        return resized\n",
    "\n",
    "    except Exception as e:\n",
    "        print(f\"Error cropping {row['filename']}: {e}\")\n",
    "        return None\n",
    "\n"
   ]
  },
  {
   "cell_type": "code",
   "execution_count": null,
   "id": "22128809",
   "metadata": {},
   "outputs": [],
   "source": [
    "df['face_gray'] = df.apply(crop_image, axis=1)\n"
   ]
  },
  {
   "cell_type": "code",
   "execution_count": null,
   "id": "ff6b2719",
   "metadata": {},
   "outputs": [],
   "source": [
    "for i, row in df.iterrows():\n",
    "    plt.imshow(row['face_gray'])\n",
    "    plt.show()\n",
    "    #print(row)\n",
    "    if i==5:\n",
    "        break"
   ]
  }
 ],
 "metadata": {
  "kernelspec": {
   "display_name": "py313",
   "language": "python",
   "name": "python3"
  },
  "language_info": {
   "codemirror_mode": {
    "name": "ipython",
    "version": 3
   },
   "file_extension": ".py",
   "mimetype": "text/x-python",
   "name": "python",
   "nbconvert_exporter": "python",
   "pygments_lexer": "ipython3",
   "version": "3.13.2"
  }
 },
 "nbformat": 4,
 "nbformat_minor": 5
}
