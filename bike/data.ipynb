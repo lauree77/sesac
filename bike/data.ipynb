{
 "cells": [
  {
   "cell_type": "code",
   "execution_count": null,
   "id": "f710732c",
   "metadata": {},
   "outputs": [],
   "source": [
    "import pandas as pd\n",
    "import os\n",
    "import glob\n"
   ]
  },
  {
   "cell_type": "code",
   "execution_count": null,
   "id": "51c8eb93",
   "metadata": {},
   "outputs": [],
   "source": [
    "import seaborn as sns\n",
    "import matplotlib.pyplot as plt"
   ]
  },
  {
   "cell_type": "markdown",
   "id": "21e83349",
   "metadata": {},
   "source": [
    "6개의 데이터 파일 읽어 들이기"
   ]
  },
  {
   "cell_type": "code",
   "execution_count": null,
   "id": "560cb6be",
   "metadata": {},
   "outputs": [],
   "source": [
    "\n",
    "\n",
    "def merge_csv_files(folder_path, encoding='utf-8'):\n",
    "    \"\"\"\n",
    "    지정된 폴더 내의 모든 CSV 파일을 하나의 DataFrame으로 병합합니다.\n",
    "\n",
    "    Parameters:\n",
    "        folder_path (str): CSV 파일들이 위치한 폴더 경로\n",
    "        encoding (str): 파일 인코딩 (기본값: 'utf-8')\n",
    "\n",
    "    Returns:\n",
    "        pd.DataFrame: 병합된 데이터프레임\n",
    "    \"\"\"\n",
    "    # CSV 파일 목록 가져오기\n",
    "    csv_files = glob.glob(os.path.join(folder_path, '*.csv'))\n",
    "    \n",
    "    if not csv_files:\n",
    "        print(\"CSV 파일이 없습니다.\")\n",
    "        return pd.DataFrame()\n",
    "    \n",
    "    # CSV 읽기 및 병합\n",
    "    df_list = []\n",
    "    for file in csv_files:\n",
    "        try:\n",
    "            df = pd.read_csv(file, encoding=encoding)\n",
    "            df_list.append(df)\n",
    "        except Exception as e:\n",
    "            print(f\"파일 {file} 읽기 실패: {e}\")\n",
    "    \n",
    "    combined_df = pd.concat(df_list, ignore_index=True)\n",
    "    print(f\"✅ 총 {len(df_list)}개의 파일을 병합했습니다.\")\n",
    "    return combined_df\n",
    "\n",
    "def convert_weekday(df):\n",
    "    # 3. 요일 영문 -> 한국어 매핑\n",
    "    weekday_map = {\n",
    "        'Monday': '월',\n",
    "        'Tuesday': '화',\n",
    "        'Wednesday': '수',\n",
    "        'Thursday': '목',\n",
    "        'Friday': '금',\n",
    "        'Saturday': '토',\n",
    "        'Sunday': '일'\n",
    "    }\n",
    "    df['요일'] = df['대여일시2'].dt.day_name().map(weekday_map)\n",
    "\n",
    "def add_weekend_and_time_period(df, datetime_col, weekend_col='is_weekend', time_col='time_period'):\n",
    "    \"\"\"\n",
    "    주어진 datetime 칼럼에서 주말 여부와 시간대(오전/오후/저녁/심야)를 추출해 새로운 칼럼으로 추가합니다.\n",
    "\n",
    "    Parameters:\n",
    "        df (pd.DataFrame): 대상 데이터프레임\n",
    "        datetime_col (str): datetime 형식의 칼럼명\n",
    "        weekend_col (str): 생성할 주말 여부 칼럼명 (기본값: 'is_weekend')\n",
    "        time_col (str): 생성할 시간대 칼럼명 (기본값: 'time_period')\n",
    "\n",
    "    Returns:\n",
    "        pd.DataFrame: 처리된 데이터프레임\n",
    "    \"\"\"\n",
    "    # 주말 여부 (토/일)\n",
    "    df[weekend_col] = df[datetime_col].dt.weekday >= 5  # True if Saturday(5) or Sunday(6)\n",
    "\n",
    "    # 시간대 추출 (기준은 시(hour))\n",
    "    def get_time_period(hour):\n",
    "        if 5 <= hour < 12:\n",
    "            return '오전'\n",
    "        elif 12 <= hour < 17:\n",
    "            return '오후'\n",
    "        elif 17 <= hour < 21:\n",
    "            return '저녁'\n",
    "        else:\n",
    "            return '심야'\n",
    "    \n",
    "    df[time_col] = df[datetime_col].dt.hour.apply(get_time_period)\n",
    "    \n",
    "    return df"
   ]
  },
  {
   "cell_type": "code",
   "execution_count": null,
   "id": "e7522fd4",
   "metadata": {},
   "outputs": [],
   "source": [
    "# 함수 호출 예시\n",
    "bikes = merge_csv_files('./data')\n",
    "\n",
    "# 결과 확인\n",
    "print(bikes.head())\n",
    "\n",
    "bikes['대여일시2'] = pd.to_datetime(bikes['대여일시'])\n",
    "convert_weekday(bikes)\n",
    "bikes = add_weekend_and_time_period(bikes, '대여일시2')\n",
    "bikes['이용시간2'] = bikes['이용시간'].apply(lambda x: x/60)\n"
   ]
  },
  {
   "cell_type": "code",
   "execution_count": null,
   "id": "ffa68bf0",
   "metadata": {},
   "outputs": [],
   "source": [
    "bike_shop = pd.read_excel('./data/bike_rent_location.xlsx')\n",
    "\n",
    "bike_shop.head(1)"
   ]
  },
  {
   "cell_type": "code",
   "execution_count": null,
   "id": "6442b441",
   "metadata": {},
   "outputs": [],
   "source": [
    "bikes = pd.merge(bikes, bike_shop, left_on='대여 대여소번호', right_on='대여소번호')"
   ]
  },
  {
   "cell_type": "code",
   "execution_count": null,
   "id": "d23613c2",
   "metadata": {},
   "outputs": [],
   "source": [
    "bikes.drop(['대여소번호','대여소명'], axis='columns', inplace=True)"
   ]
  },
  {
   "cell_type": "code",
   "execution_count": null,
   "id": "deb02558",
   "metadata": {},
   "outputs": [],
   "source": [
    "bikes.rename(columns={'구분' : '대여구','위도' : '대여점위도','경도' : '대여점경도'}, inplace=True)\n",
    "bikes.head()"
   ]
  },
  {
   "cell_type": "code",
   "execution_count": null,
   "id": "d429b6d4",
   "metadata": {},
   "outputs": [],
   "source": [
    "sns.countplot(x='요일', data=bikes, order=['월','화','수','목','금','토','일'])"
   ]
  },
  {
   "cell_type": "code",
   "execution_count": null,
   "id": "ae902249",
   "metadata": {},
   "outputs": [],
   "source": [
    "plt.figure(figsize=(15, 4))\n"
   ]
  },
  {
   "cell_type": "code",
   "execution_count": null,
   "id": "3b66737d",
   "metadata": {},
   "outputs": [],
   "source": [
    "bikes['일자'] = bikes['대여일시2'].dt.day\n",
    "sns.countplot(x='일자', data=bikes)\n"
   ]
  },
  {
   "cell_type": "code",
   "execution_count": null,
   "id": "e4946272",
   "metadata": {},
   "outputs": [],
   "source": [
    "bikes['대여시간대'] = bikes['대여일시2'].dt.hour\n",
    "sns.countplot(x='대여시간대', data=bikes)"
   ]
  },
  {
   "cell_type": "code",
   "execution_count": null,
   "id": "b2a7b914",
   "metadata": {},
   "outputs": [],
   "source": [
    "hourly_dayofweek_ride = bikes.pivot_table(index='대여시간대', columns='요일', values='자전거번호', aggfunc='count')\n",
    "\n",
    "hourly_dayofweek_ride.plot(kind='line')"
   ]
  },
  {
   "cell_type": "code",
   "execution_count": null,
   "id": "f64d6767",
   "metadata": {},
   "outputs": [],
   "source": []
  }
 ],
 "metadata": {
  "kernelspec": {
   "display_name": "py313",
   "language": "python",
   "name": "python3"
  },
  "language_info": {
   "codemirror_mode": {
    "name": "ipython",
    "version": 3
   },
   "file_extension": ".py",
   "mimetype": "text/x-python",
   "name": "python",
   "nbconvert_exporter": "python",
   "pygments_lexer": "ipython3",
   "version": "3.13.2"
  }
 },
 "nbformat": 4,
 "nbformat_minor": 5
}
