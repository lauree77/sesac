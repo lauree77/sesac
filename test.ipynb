{
 "cells": [
  {
   "cell_type": "code",
   "execution_count": null,
   "id": "2cbb0e57",
   "metadata": {},
   "outputs": [],
   "source": [
    "import pandas as pd\n",
    "import numpy as np"
   ]
  },
  {
   "cell_type": "code",
   "execution_count": null,
   "id": "250495a4",
   "metadata": {},
   "outputs": [],
   "source": [
    "df = pd.DataFrame(\n",
    "{\n",
    "\"A\": [\"foo\", \"bar\", \"foo\", \"bar\", \"foo\", \"bar\", \"foo\", \"foo\"],\n",
    "\"B\": [\"one\", \"one\", \"two\", \"three\", \"two\", \"two\", \"one\", \"three\"],\n",
    "\"C\": np.random.randn(8),\n",
    "\"D\": np.random.randn(8),\n",
    "}\n",
    ")"
   ]
  },
  {
   "cell_type": "code",
   "execution_count": null,
   "id": "e2b198bb",
   "metadata": {},
   "outputs": [],
   "source": [
    "for name, group in df.groupby(['A', 'B']):\n",
    "    print(name)\n",
    "    print(group)"
   ]
  },
  {
   "cell_type": "code",
   "execution_count": null,
   "id": "18da1603",
   "metadata": {},
   "outputs": [],
   "source": [
    "for name, group in df.groupby(['A']):\n",
    "    print(name)\n",
    "    print(group)"
   ]
  },
  {
   "cell_type": "code",
   "execution_count": null,
   "id": "af4cbcc4",
   "metadata": {},
   "outputs": [],
   "source": [
    "dff = pd.DataFrame({\"A\": np.arange(8), \"B\": list(\"aabbbbcc\")})\n",
    "dff"
   ]
  },
  {
   "cell_type": "code",
   "execution_count": null,
   "id": "a49ed9a9",
   "metadata": {},
   "outputs": [],
   "source": [
    "dff.groupby(\"B\").filter(lambda x: len(x) > 2)"
   ]
  },
  {
   "cell_type": "code",
   "execution_count": null,
   "id": "04315ef6",
   "metadata": {},
   "outputs": [],
   "source": [
    "df = pd.DataFrame({\n",
    "\"A\": [\"a\", \"a\", \"b\"],\n",
    "\"B\": [1, 2, 3],\n",
    "\"C\": [5, 6, 7]\n",
    "})\n",
    "def show_arg(x):\n",
    "    print(x)\n",
    "    return x / x.sum() # 으로 바꾸어 보고 결과를 비교해 보자!!"
   ]
  },
  {
   "cell_type": "code",
   "execution_count": null,
   "id": "9069fa62",
   "metadata": {},
   "outputs": [],
   "source": [
    "print(\"include_groups=True\")\n",
    "# include_groups=True (기본값): 그룹 컬럼(A)이 함수에 전달되는 데이터프레임에 포함됨\n",
    "result1 = df.groupby(\"A\").apply(show_arg)\n",
    "print(result1)"
   ]
  },
  {
   "cell_type": "code",
   "execution_count": null,
   "id": "4d88661e",
   "metadata": {},
   "outputs": [],
   "source": [
    "# include_groups=False: 그룹 컬럼(A)이 함수에 전달되는 데이터프레임에서 제외됨\n",
    "print(\"\\ninclude_groups=False\")\n",
    "result2 = df.groupby(\"A\").apply(show_arg, include_groups=False)\n",
    "print(result2)"
   ]
  },
  {
   "cell_type": "code",
   "execution_count": null,
   "id": "6443c747",
   "metadata": {},
   "outputs": [],
   "source": [
    "print(\"include_groups=True\")\n",
    "# include_groups=True (기본값): 그룹 컬럼(A)이 함수에 전달되는 데이터프레임에 포함됨\n",
    "result1 = df.groupby(\"A\").apply(show_arg)\n",
    "print(result1)\n",
    "\n",
    "# include_groups=False: 그룹 컬럼(A)이 함수에 전달되는 데이터프레임에서 제외됨\n",
    "print(\"\\ninclude_groups=False\")\n",
    "result2 = df.groupby(\"A\").apply(show_arg, include_groups=False)\n",
    "print(result2)"
   ]
  }
 ],
 "metadata": {
  "kernelspec": {
   "display_name": "py313",
   "language": "python",
   "name": "python3"
  },
  "language_info": {
   "codemirror_mode": {
    "name": "ipython",
    "version": 3
   },
   "file_extension": ".py",
   "mimetype": "text/x-python",
   "name": "python",
   "nbconvert_exporter": "python",
   "pygments_lexer": "ipython3",
   "version": "3.13.2"
  }
 },
 "nbformat": 4,
 "nbformat_minor": 5
}
