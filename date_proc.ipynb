{
 "cells": [
  {
   "cell_type": "code",
   "execution_count": null,
   "id": "798b721d",
   "metadata": {},
   "outputs": [],
   "source": [
    "import pandas as pd\n",
    "import numpy as np"
   ]
  },
  {
   "cell_type": "code",
   "execution_count": null,
   "id": "c5cdd498",
   "metadata": {},
   "outputs": [],
   "source": [
    "rng = pd.date_range(\"1/1/2025\", periods=900, freq=\"s\")\n",
    "ts = pd.Series(np.random.randint(0, 500, len(rng)), index=rng)\n",
    "ts.resample(\"5Min\").mean()"
   ]
  },
  {
   "cell_type": "code",
   "execution_count": null,
   "id": "cf5380d5",
   "metadata": {},
   "outputs": [],
   "source": [
    "ts\n"
   ]
  },
  {
   "cell_type": "code",
   "execution_count": null,
   "id": "b77acd4e",
   "metadata": {},
   "outputs": [],
   "source": [
    "ts[:2].resample(\"250ms\").ffill(limit=2)"
   ]
  },
  {
   "cell_type": "code",
   "execution_count": null,
   "id": "c7ec063b",
   "metadata": {},
   "outputs": [],
   "source": [
    "df_time = pd.DataFrame({'B': [0, 1, 2, np.nan, 4]},\n",
    "index=[pd.Timestamp('20130101 09:00:00'),\n",
    "pd.Timestamp('20130101 09:00:02'),\n",
    "pd.Timestamp('20130101 09:00:03'),\n",
    "pd.Timestamp('20130101 09:00:05'),\n",
    "pd.Timestamp('20130101 09:00:06')])"
   ]
  },
  {
   "cell_type": "code",
   "execution_count": null,
   "id": "c924b5b8",
   "metadata": {},
   "outputs": [],
   "source": [
    "df_time"
   ]
  },
  {
   "cell_type": "code",
   "execution_count": null,
   "id": "fe84bd86",
   "metadata": {},
   "outputs": [],
   "source": [
    "df_time.rolling(2).sum()"
   ]
  },
  {
   "cell_type": "code",
   "execution_count": null,
   "id": "a585d151",
   "metadata": {},
   "outputs": [],
   "source": [
    "df_time.rolling('2s').sum()"
   ]
  },
  {
   "cell_type": "code",
   "execution_count": null,
   "id": "1b51b0f6",
   "metadata": {},
   "outputs": [],
   "source": [
    "df_time.rolling('2s', center=True).sum()"
   ]
  },
  {
   "cell_type": "code",
   "execution_count": null,
   "id": "01b61394",
   "metadata": {},
   "outputs": [],
   "source": [
    "for timestamp in df_time.index:\n",
    "    start = timestamp - pd.Timedelta('1s')\n",
    "    end = timestamp + pd.Timedelta('1s')\n",
    "    window_data = df_time[(df_time.index >= start) & (df_time.index <= end)]\n",
    "    print(f\"Timestamp: {timestamp}\")\n",
    "    print(window_data, \"\\n\")"
   ]
  },
  {
   "cell_type": "code",
   "execution_count": null,
   "id": "6009fb01",
   "metadata": {},
   "outputs": [],
   "source": [
    "df2 = pd.DataFrame({\"B\": [0, 1, 2, np.nan, 4]})\n",
    "print(df2)\n",
    "df3 = df2.expanding(3).sum()\n",
    "print(df3)"
   ]
  },
  {
   "cell_type": "code",
   "execution_count": null,
   "id": "cd901ce7",
   "metadata": {},
   "outputs": [],
   "source": [
    "df4 = df2.expanding(2).sum()\n",
    "print(df4)"
   ]
  },
  {
   "cell_type": "code",
   "execution_count": null,
   "id": "2f324702",
   "metadata": {},
   "outputs": [],
   "source": []
  }
 ],
 "metadata": {
  "kernelspec": {
   "display_name": "py313",
   "language": "python",
   "name": "python3"
  },
  "language_info": {
   "codemirror_mode": {
    "name": "ipython",
    "version": 3
   },
   "file_extension": ".py",
   "mimetype": "text/x-python",
   "name": "python",
   "nbconvert_exporter": "python",
   "pygments_lexer": "ipython3",
   "version": "3.13.2"
  }
 },
 "nbformat": 4,
 "nbformat_minor": 5
}
